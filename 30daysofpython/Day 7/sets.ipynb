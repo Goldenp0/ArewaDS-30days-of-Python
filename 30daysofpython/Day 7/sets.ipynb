{
 "cells": [
  {
   "cell_type": "markdown",
   "metadata": {},
   "source": [
    "# Exercise level one\n",
    "## Day_7 assignment \n",
    "\n",
    "Find the length of the set it_companies\n",
    "Add 'Twitter' to it_companies\n",
    "Insert multiple IT companies at once to the set it_companies\n",
    "Remove one of the companies from the set it_companies\n",
    "What is the difference between remove and discard"
   ]
  },
  {
   "cell_type": "markdown",
   "metadata": {},
   "source": [
    "# Exercise level two\n",
    "## part two\n",
    "\n",
    "Join A and B\n",
    "Find A intersection B\n",
    "Is A subset of B\n",
    "Are A and B disjoint sets\n",
    "Join A with B and B with A\n",
    "What is the symmetric difference between A and B\n",
    "Delete the sets completely"
   ]
  },
  {
   "cell_type": "markdown",
   "metadata": {},
   "source": [
    "# Exercise level three\n",
    "## part three\n",
    "\n",
    "Convert the ages to a set and compare the length of the list and the set, which one is bigger?\n",
    "Explain the difference between the following data types: string, list, tuple and set\n",
    "I am a teacher and I love to inspire and teach people. How many unique words have been used in the sentence? Use the split methods and set to get the unique words.\n"
   ]
  }
 ],
 "metadata": {
  "language_info": {
   "name": "python"
  }
 },
 "nbformat": 4,
 "nbformat_minor": 2
}
