{
 "cells": [
  {
   "cell_type": "markdown",
   "metadata": {},
   "source": [
    "## Exercises 16\n",
    "\n",
    "Get the current day, month, year, hour, minute and timestamp from datetime module\n",
    "Format the current date using this format: \"%m/%d/%Y, %H:%M:%S\"\n",
    "Today is 5 December, 2019. Change this time string to time.\n",
    "Calculate the time difference between now and new year.\n",
    "Calculate the time difference between 1 January 1970 and now.\n",
    "Think, what can you use the datetime module for? Examples:\n",
    "Time series analysis\n",
    "To get a timestamp of any activities in an application\n",
    "Adding posts on a blog"
   ]
  }
 ],
 "metadata": {
  "language_info": {
   "name": "python"
  }
 },
 "nbformat": 4,
 "nbformat_minor": 2
}
