{
 "cells": [
  {
   "cell_type": "markdown",
   "metadata": {},
   "source": [
    "# Exercise One\n",
    "## Assignment \n",
    "Create an empty tuple\n",
    "Create a tuple containing names of your sisters and your brothers (imaginary siblings are fine)\n",
    "Join brothers and sisters tuples and assign it to siblings\n",
    "How many siblings do you have?\n",
    "Modify the siblings tuple and add the name of your father and mother and assign it to family_members\n"
   ]
  },
  {
   "cell_type": "markdown",
   "metadata": {},
   "source": [
    "# Exercise two\n",
    "## Assignment\n",
    "\n",
    "Unpack siblings and parents from family_members\n",
    "Create fruits, vegetables and animal products tuples. Join the three tuples and assign it to a variable called food_stuff_tp.\n",
    "Change the about food_stuff_tp tuple to a food_stuff_lt list\n",
    "Slice out the middle item or items from the food_stuff_tp tuple or food_stuff_lt list.\n",
    "Slice out the first three items and the last three items from food_staff_lt list\n",
    "Delete the food_staff_tp tuple completely\n",
    "Check if an item exists in tuple:\n",
    "Check if 'Estonia' is a nordic country\n",
    "\n",
    "Check if 'Iceland' is a nordic country\n",
    "\n",
    "nordic_countries = ('Denmark', 'Finland','Iceland', 'Norway', 'Sweden')"
   ]
  }
 ],
 "metadata": {
  "language_info": {
   "name": "python"
  }
 },
 "nbformat": 4,
 "nbformat_minor": 2
}
