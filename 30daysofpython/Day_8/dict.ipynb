{
 "cells": [
  {
   "cell_type": "markdown",
   "metadata": {},
   "source": [
    "Create an empty dictionary called dog\n",
    "Add name, color, breed, legs, age to the dog dictionary\n",
    "Create a student dictionary and add first_name, last_name, gender, age, marital status, skills, country, city and address as keys for the dictionary\n",
    "Get the length of the student dictionary\n",
    "Get the value of skills and check the data type, it should be a list\n",
    "Modify the skills values by adding one or two skills\n",
    "Get the dictionary keys as a list\n",
    "Get the dictionary values as a list\n",
    "Change the dictionary to a list of tuples using items() method\n",
    "Delete one of the items in the dictionary\n",
    "Delete one of the dictionaries"
   ]
  }
 ],
 "metadata": {
  "language_info": {
   "name": "python"
  }
 },
 "nbformat": 4,
 "nbformat_minor": 2
}
