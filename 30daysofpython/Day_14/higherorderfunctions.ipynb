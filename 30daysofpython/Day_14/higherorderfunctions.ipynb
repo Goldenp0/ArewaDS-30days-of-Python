{
 "cells": [
  {
   "cell_type": "markdown",
   "metadata": {},
   "source": [
    "## Exercise level 1\n",
    "countries = ['Estonia', 'Finland', 'Sweden', 'Denmark', 'Norway', 'Iceland']\n",
    "names = ['Asabeneh', 'Lidiya', 'Ermias', 'Abraham']\n",
    "numbers = [1, 2, 3, 4, 5, 6, 7, 8, 9, 10]\n",
    "Exercises: Level 1\n",
    "Explain the difference between map, filter, and reduce.\n",
    "Explain the difference between higher order function, closure and decorator\n",
    "Define a call function before map, filter or reduce, see examples.\n",
    "Use for loop to print each country in the countries list.\n",
    "Use for to print each name in the names list.\n",
    "Use for to print each number in the numbers list.\n",
    "\n",
    "## Exercises: Level 2\n",
    "Use map to create a new list by changing each country to uppercase in the countries list\n",
    "Use map to create a new list by changing each number to its square in the numbers list\n",
    "Use map to change each name to uppercase in the names list\n",
    "Use filter to filter out countries containing 'land'.\n",
    "Use filter to filter out countries having exactly six characters.\n",
    "Use filter to filter out countries containing six letters and more in the country list.\n",
    "Use filter to filter out countries starting with an 'E'\n",
    "Chain two or more list iterators (eg. arr.map(callback).filter(callback).reduce(callback))\n",
    "Declare a function called get_string_lists which takes a list as a parameter and then returns a list containing only string items.\n",
    "Use reduce to sum all the numbers in the numbers list.\n",
    "Use reduce to concatenate all the countries and to produce this sentence: Estonia, Finland, Sweden, Denmark, Norway, and Iceland are north European countries\n",
    "Declare a function called categorize_countries that returns a list of countries with some common pattern (you can find the countries list in this repository as countries.js(eg 'land', 'ia', 'island', 'stan')).\n",
    "Create a function returning a dictionary, where keys stand for starting letters of countries and values are the number of country names starting with that letter.\n",
    "Declare a get_first_ten_countries function - it returns a list of first ten countries from the countries.js list in the data folder.\n",
    "Declare a get_last_ten_countries function that returns the last ten countries in the countries list.\n",
    "\n",
    "## Exercises: Level 3\n",
    "Use the countries_data.py (https://github.com/Asabeneh/30-Days-Of-Python/blob/master/data/countries-data.py) file and follow the tasks below:\n",
    "Sort countries by name, by capital, by population\n",
    "Sort out the ten most spoken languages by location.\n",
    "Sort out the ten most populated countries.\n"
   ]
  }
 ],
 "metadata": {
  "language_info": {
   "name": "python"
  }
 },
 "nbformat": 4,
 "nbformat_minor": 2
}
