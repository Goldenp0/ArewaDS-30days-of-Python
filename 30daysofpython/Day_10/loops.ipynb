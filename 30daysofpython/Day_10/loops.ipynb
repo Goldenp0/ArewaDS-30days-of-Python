{
 "cells": [
  {
   "cell_type": "markdown",
   "metadata": {},
   "source": [
    "## Exercise 1\n",
    "Iterate 0 to 10 using for loop, do the same using while loop.\n",
    "\n",
    "Iterate 10 to 0 using for loop, do the same using while loop.\n",
    "\n",
    "Write a loop that makes seven calls to print(), so we get on the output the following triangle:\n",
    "\n",
    "  #\n",
    "  ##\n",
    "  ###\n",
    "  ####\n",
    "  #####\n",
    "  ######\n",
    "  #######\n",
    "Use nested loops to create the following:\n",
    "\n",
    "# # # # # # # #\n",
    "# # # # # # # #\n",
    "# # # # # # # #\n",
    "# # # # # # # #\n",
    "# # # # # # # #\n",
    "# # # # # # # #\n",
    "# # # # # # # #\n",
    "# # # # # # # #\n",
    "Print the following pattern:\n",
    "\n",
    "0 x 0 = 0\n",
    "1 x 1 = 1\n",
    "2 x 2 = 4\n",
    "3 x 3 = 9\n",
    "4 x 4 = 16\n",
    "5 x 5 = 25\n",
    "6 x 6 = 36\n",
    "7 x 7 = 49\n",
    "8 x 8 = 64\n",
    "9 x 9 = 81\n",
    "10 x 10 = 100\n",
    "Iterate through the list, ['Python', 'Numpy','Pandas','Django', 'Flask'] using a for loop and print out the items.\n",
    "\n",
    "Use for loop to iterate from 0 to 100 and print only even numbers\n",
    "\n",
    "Use for loop to iterate from 0 to 100 and print only odd numbers"
   ]
  },
  {
   "cell_type": "markdown",
   "metadata": {},
   "source": [
    "# exercise 2\n",
    "Use for loop to iterate from 0 to 100 and print the sum of all numbers.\n",
    "The sum of all numbers is 5050.\n",
    "Use for loop to iterate from 0 to 100 and print the sum of all evens and the sum of all odds.\n",
    "\n",
    "The sum of all evens is 2550. And the sum of all odds is 2500.\n"
   ]
  },
  {
   "cell_type": "markdown",
   "metadata": {},
   "source": [
    "# Exercise 3\n",
    "\n",
    "Go to the data folder and use the countries.py file. Loop through the countries and extract all the countries containing the word land.\n",
    "This is a fruit list, ['banana', 'orange', 'mango', 'lemon'] reverse the order using loop.\n",
    "Go to the data folder and use the countries_data.py file.\n",
    "What are the total number of languages in the data\n",
    "Find the ten most spoken languages from the data\n",
    "Find the 10 most populated countries in the world"
   ]
  }
 ],
 "metadata": {
  "language_info": {
   "name": "python"
  }
 },
 "nbformat": 4,
 "nbformat_minor": 2
}
